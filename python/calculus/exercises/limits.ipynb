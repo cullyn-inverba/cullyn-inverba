\chapter{Limits and Continuity}

\section{Rates of Change}
\begin{itemize}
  \item Sources:
  
  \subsection{Average Rate of Change}
  \begin{itemize}
    \item 
  \end{itemize}

  \subsection{Instantaneous Rate of Change}
  \begin{itemize}
    \item 
  \end{itemize}

\end{itemize}

\section{Limits}
\begin{itemize}
  \item Sources:
  
  \subsection{Limits of a Function}
  \begin{itemize}
    \item 
  \end{itemize}

  \subsection{Limit Laws and Theorems}
  \begin{itemize}
    \item 
  \end{itemize}
  
\end{itemize}

\section{Continuity}
\begin{itemize}
  \item Sources:
  
  \subsection{Continuity at a Point}
  \begin{itemize}
    \item 
  \end{itemize}

  \subsection{Continuous Functions}
  \begin{itemize}
    \item 
  \end{itemize}
  
  \subsection{Intermediate Value Theorem}
  \begin{itemize}
    \item 
  \end{itemize}
  
\end{itemize}

\section{Limits Involving Infinity}
\begin{itemize}
  \item Sources:

  \subsection{Limits at Infinity}
  \begin{itemize}
    \item 
  \end{itemize}

  \subsection{Infinite Limits}
  \begin{itemize}
    \item 
  \end{itemize}
  
  
\end{itemize}






