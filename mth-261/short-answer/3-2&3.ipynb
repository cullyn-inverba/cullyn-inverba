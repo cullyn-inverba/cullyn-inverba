{
 "metadata": {
  "language_info": {
   "codemirror_mode": {
    "name": "ipython",
    "version": 3
   },
   "file_extension": ".py",
   "mimetype": "text/x-python",
   "name": "python",
   "nbconvert_exporter": "python",
   "pygments_lexer": "ipython3",
   "version": "3.9.5-final"
  },
  "orig_nbformat": 2,
  "kernelspec": {
   "name": "python39264bitlinearvenv6ce40b61835845b0a51e3922e69d679e",
   "display_name": "Python 3.9.2 64-bit ('linear': venv)"
  }
 },
 "nbformat": 4,
 "nbformat_minor": 2,
 "cells": [
  {
   "cell_type": "code",
   "execution_count": 10,
   "metadata": {},
   "outputs": [],
   "source": [
    "import numpy as np\n",
    "from sympy import *"
   ]
  },
  {
   "source": [
    "## 3.2 Question 1\n",
    "\n",
    "  If A, B, and C are 3×3 matrices; and det(A) = 5, det(B) = −2, and det(C) = −1 then compute:\n",
    "\n",
    "$det(4C^TA^TC^2B^3C^TB^{-1})$ \n",
    " \n"
   ],
   "cell_type": "markdown",
   "metadata": {}
  },
  {
   "cell_type": "code",
   "execution_count": 11,
   "metadata": {},
   "outputs": [
    {
     "output_type": "stream",
     "name": "stdout",
     "text": [
      "1280.0\n"
     ]
    }
   ],
   "source": [
    "# Determinants of given matrices\n",
    "A, B, C = 5,-2,-1\n",
    "\n",
    "# Size of given matrices\n",
    "n = 3\n",
    "\n",
    "# Given computation, ** = ^\n",
    "print(\n",
    "    4**n * C * A * C**2 * B**3 * C * B**-1\n",
    ")"
   ]
  },
  {
   "source": [
    "## 3.2 Question 2\n",
    "\n",
    "Compute the adjugate of the following matrix:\n"
   ],
   "cell_type": "markdown",
   "metadata": {}
  },
  {
   "cell_type": "code",
   "execution_count": 12,
   "metadata": {},
   "outputs": [
    {
     "output_type": "stream",
     "name": "stdout",
     "text": [
      "[[-60. -30. -20.]\n [-12. -72.  62.]\n [-48.  42.  28.]]\n"
     ]
    }
   ],
   "source": [
    "A = np.array([\n",
    "    [7,0,5],\n",
    "    [4,4,-6],\n",
    "    [6,-6,-6]\n",
    "])\n",
    "\n",
    "# Adj(A) = A^-1 * det(A) --- Only for square matrices\n",
    "print(np.linalg.inv(A)*np.linalg.det(A))"
   ]
  },
  {
   "source": [
    "## 3.3 Question 1\n",
    "\n",
    "Find the characteristic polynomial of A. Use x for the variable in your polynomial. You do not need to factor your polynomial.\n"
   ],
   "cell_type": "markdown",
   "metadata": {}
  },
  {
   "cell_type": "code",
   "execution_count": 13,
   "metadata": {},
   "outputs": [
    {
     "output_type": "execute_result",
     "data": {
      "text/plain": [
       "-x**3 - x**2 + 2*x"
      ],
      "text/latex": "$\\displaystyle - x^{3} - x^{2} + 2 x$"
     },
     "metadata": {},
     "execution_count": 13
    }
   ],
   "source": [
    "x = symbols('x')\n",
    "\n",
    "# Subtract x from diagonal elements\n",
    "A = Matrix([\n",
    "    [7-x,-3,-3],\n",
    "    [4,-2-x,-2],\n",
    "    [14,-6,-6-x]\n",
    "])\n",
    "\n",
    "A.det()"
   ]
  },
  {
   "source": [
    "## 3.3 Question 2\n",
    "\n",
    "Find the characteristic polynomial of A. Use x for the variable in your polynomial.\n"
   ],
   "cell_type": "markdown",
   "metadata": {}
  },
  {
   "cell_type": "code",
   "execution_count": 14,
   "metadata": {},
   "outputs": [
    {
     "output_type": "execute_result",
     "data": {
      "text/plain": [
       "x**4 + 4*x**3 - 3*x**2 - 18*x"
      ],
      "text/latex": "$\\displaystyle x^{4} + 4 x^{3} - 3 x^{2} - 18 x$"
     },
     "metadata": {},
     "execution_count": 14
    }
   ],
   "source": [
    "A = Matrix([\n",
    "    [-3-x,0,-3,4],\n",
    "    [0,-3-x,3,-1],\n",
    "    [0,0,0-x,-1],\n",
    "    [0,0,0,2-x]\n",
    "])\n",
    "\n",
    "A.det()"
   ]
  },
  {
   "source": [
    "## 3.3 Question 3\n",
    "\n",
    "List all of the distinct eigenvalues of A. Enter your answer as a list of numbers separated by commas."
   ],
   "cell_type": "markdown",
   "metadata": {}
  },
  {
   "cell_type": "code",
   "execution_count": 15,
   "metadata": {},
   "outputs": [
    {
     "output_type": "stream",
     "name": "stdout",
     "text": [
      "[-1. -3.]\n"
     ]
    }
   ],
   "source": [
    "A = np.array([\n",
    "    [3,4],\n",
    "    [-6,-7]\n",
    "])\n",
    "\n",
    "print(np.linalg.eigvals(A))"
   ]
  },
  {
   "source": [
    "## 3.3 Question 4\n",
    "\n",
    "List all of the distinct eigenvalues of A. Enter your answer as a list of numbers separated by commas.\n"
   ],
   "cell_type": "markdown",
   "metadata": {}
  },
  {
   "cell_type": "code",
   "execution_count": 16,
   "metadata": {},
   "outputs": [
    {
     "output_type": "stream",
     "name": "stdout",
     "text": [
      "[ 1. -2.  0.]\n"
     ]
    }
   ],
   "source": [
    "A = np.array([\n",
    "    [1,-1,0],\n",
    "    [0,0,0],\n",
    "    [0,-2,-2]\n",
    "])\n",
    "\n",
    "print(np.linalg.eigvals(A))"
   ]
  },
  {
   "source": [
    "## 3.3 Question 5\n",
    "\n",
    "Find the basic eigenvectors of A corresponding to the eigenvalue λ."
   ],
   "cell_type": "markdown",
   "metadata": {}
  },
  {
   "cell_type": "code",
   "execution_count": 57,
   "metadata": {},
   "outputs": [
    {
     "output_type": "stream",
     "name": "stdout",
     "text": [
      "Eigen values = [-1.  3.  3.]\n \nEigen vectors (normalized) =\n\n[[-0.70710678  0.65079137  0.6882472 ]\n [ 0.          0.          0.22941573]\n [ 0.70710678 -0.7592566  -0.6882472 ]]\n \n"
     ]
    },
    {
     "output_type": "execute_result",
     "data": {
      "text/plain": [
       "Matrix([\n",
       "[-1],\n",
       "[ 0],\n",
       "[ 1]])"
      ],
      "text/latex": "$\\displaystyle \\left[\\begin{matrix}-1\\\\0\\\\1\\end{matrix}\\right]$"
     },
     "metadata": {},
     "execution_count": 57
    }
   ],
   "source": [
    "A = np.array([\n",
    "    [-25,12,-24],\n",
    "    [0,3,0],\n",
    "    [28,-12,27]\n",
    "])\n",
    "\n",
    "evals,evecs = np.linalg.eig(A)\n",
    "\n",
    "print('Eigen values =', evals)\n",
    "print(' ')\n",
    "print('Eigen vectors (normalized) ↓\\n')\n",
    "print(evecs)\n",
    "\n",
    "print(' ')\n",
    "\n",
    "A = Matrix(A)\n",
    "\n",
    "A.eigenvects()[0][2][0]\n",
    "\n"
   ]
  },
  {
   "source": [
    "## 3.3 Question 6\n"
   ],
   "cell_type": "markdown",
   "metadata": {}
  },
  {
   "cell_type": "code",
   "execution_count": null,
   "metadata": {},
   "outputs": [],
   "source": []
  },
  {
   "source": [
    "## 3.3 Question 7 "
   ],
   "cell_type": "markdown",
   "metadata": {}
  },
  {
   "cell_type": "code",
   "execution_count": null,
   "metadata": {},
   "outputs": [],
   "source": []
  }
 ]
}