{
 "metadata": {
  "language_info": {
   "codemirror_mode": {
    "name": "ipython",
    "version": 3
   },
   "file_extension": ".py",
   "mimetype": "text/x-python",
   "name": "python",
   "nbconvert_exporter": "python",
   "pygments_lexer": "ipython3",
   "version": "3.9.5-final"
  },
  "orig_nbformat": 2,
  "kernelspec": {
   "name": "python39264bitlinearvenv6ce40b61835845b0a51e3922e69d679e",
   "display_name": "Python 3.9.2 64-bit ('linear': venv)"
  }
 },
 "nbformat": 4,
 "nbformat_minor": 2,
 "cells": [
  {
   "cell_type": "code",
   "execution_count": 1,
   "metadata": {},
   "outputs": [],
   "source": [
    "import numpy as np\n",
    "from sympy import *"
   ]
  },
  {
   "source": [
    "## Question 1\n",
    "\n",
    "If **u** and **v** are the vectors below, solve the following equation for the vector **x**.\n",
    "\n",
    "Given equation:\n",
    "$$ \n",
    "\\begin{align*}\n",
    "3(\\vec{x}-3\\vec{u})-2\\vec{v}=2\\vec{v}+\\vec{u}-\\vec{x}\n",
    "\\end{align*}\n",
    "$$"
   ],
   "cell_type": "markdown",
   "metadata": {}
  },
  {
   "cell_type": "code",
   "execution_count": 2,
   "metadata": {},
   "outputs": [
    {
     "output_type": "stream",
     "name": "stdout",
     "text": [
      "[5*u/2 + v]\n \n[[-5]\n [11/2]\n [-13/2]]\n"
     ]
    }
   ],
   "source": [
    "from fractions import Fraction\n",
    "np.set_printoptions(formatter={'all':lambda x: str(Fraction(x).limit_denominator())})\n",
    "\n",
    "u,v,x = symbols('u,v,x')\n",
    "\n",
    "# Given equation -> Eq(left side, right side)\n",
    "vec_eq = Eq(3*(x-3*u)-2*v, 2*v+u-x)\n",
    "print(solve(vec_eq, x))\n",
    "print(' ')\n",
    "\n",
    "# Given vectors\n",
    "u = np.array([[-4,3,-3]]).T\n",
    "v = np.array([[5,-2,1]]).T\n",
    "\n",
    "# Result from solve() function\n",
    "x = (5/2)*u + v\n",
    "\n",
    "print(x)\n"
   ]
  },
  {
   "source": [
    "## Question 2\n",
    "\n",
    "Find the distance d between the points $P_1$ and $P_2$ by first finding the vector $\\vec{v}$ from $P_1$ to $P_2$, then finding the length of $\\vec{v}$. Use the square root symbol '√' where needed to give an exact value for your answer.\n",
    "\n"
   ],
   "cell_type": "markdown",
   "metadata": {}
  },
  {
   "cell_type": "code",
   "execution_count": 3,
   "metadata": {},
   "outputs": [
    {
     "output_type": "stream",
     "name": "stdout",
     "text": [
      "v = [2 12 3].T\n\nd = sqrt(157)\n\nd = 12.529964086141668\nd^2 = 157\nvTv = 157\n"
     ]
    }
   ],
   "source": [
    "# Inputing as row vector (easeir), tranpose to make column vector\n",
    "P1 = np.array([[-9,-8,1]]).T\n",
    "P2 = np.array([[-7,4,4]]).T\n",
    "\n",
    "# v = distance between points\n",
    "v = P2-P1\n",
    "print(f'v = {v.T[0]}.T\\n')\n",
    "\n",
    "# d = norm = length = ||v|| = (v.T@v)**0.5 = sqrt(v.T@v)\n",
    "d = np.linalg.norm(v)\n",
    "vTv = v.T @ v\n",
    "\n",
    "print(f'd = sqrt({int(d**2)})\\n')\n",
    "print('d =', d)\n",
    "print('d^2 =', int(d**2))\n",
    "print('vTv =', vTv[0][0])\n",
    "\n"
   ]
  },
  {
   "source": [
    "## Question 3\n",
    "\n",
    "Find a unit vector $\\vec{u}$ with the same direction as the given vector $\\vec{v}$. Use the square root symbol '√' where needed to give an exact value for your answer. "
   ],
   "cell_type": "markdown",
   "metadata": {}
  },
  {
   "cell_type": "code",
   "execution_count": 4,
   "metadata": {},
   "outputs": [
    {
     "output_type": "stream",
     "name": "stdout",
     "text": [
      "[[0]\n [0]\n [0]]\n \nu= sqrt(\n[[81/206]\n [25/206]\n [50/103]])\n\nu=\n[[-622923/993403]\n [347451/997372]\n [596331/855896]]\n"
     ]
    }
   ],
   "source": [
    "v = np.array([[-9,5,10]]).T\n",
    "\n",
    "u = v/np.linalg.norm(v)\n",
    "vhat = v / (v**2).sum()**0.5\n",
    "\n",
    "# u = vhat\n",
    "print(u-vhat)\n",
    "print(' ')\n",
    "\n",
    "print(f'u= sqrt(\\n{u**2})\\n')\n",
    "print(f'u=\\n{u}')"
   ]
  },
  {
   "source": [
    "## Question 4\n",
    "\n",
    "Find the vector equation for the line passing through the points $P_1$ and $P_2$."
   ],
   "cell_type": "markdown",
   "metadata": {}
  },
  {
   "cell_type": "code",
   "execution_count": 5,
   "metadata": {},
   "outputs": [
    {
     "output_type": "stream",
     "name": "stdout",
     "text": [
      "t =\n[[-6]\n [4]\n [2]]\n\nUse either p1 or p2 for vector in vector equation\n"
     ]
    }
   ],
   "source": [
    "p1 = np.array([[-5,-9,7]]).T\n",
    "p2 = np.array([[-11,-5,9]]).T\n",
    "\n",
    "v = p2-p1\n",
    "print(f't =\\n{v}\\n')\n",
    "\n",
    "print('Use either p1 or p2 for vector in vector equation')"
   ]
  },
  {
   "source": [
    "## Question 5\n",
    "\n",
    "Find the vector equation for the line passing through the point $P$ and parallel to the line given\n",
    "\n",
    "---\n",
    "\n",
    "Code isn't helpful for this one.\n",
    "\n",
    "1. Input P as a vector\n",
    "2. Then input all scalrs of t as a vector for the equation\n",
    "\n",
    "E.g.,\n",
    "\n",
    "$P(-2,4,6)$ parallel to line \n",
    "\n",
    "$$\n",
    "\\begin{align*}\n",
    "x &= -3+2t \\\\\n",
    "y &= 2-8t \\\\ \n",
    "z &= -6+2t \n",
    "\\end{align*}\n",
    "$$\n",
    "Gives\n",
    "$$\n",
    "\\begin{bmatrix} x \\\\ y \\\\ z \\end{bmatrix} = \n",
    "\\begin{bmatrix} -2 \\\\ 4 \\\\ 6 \\end{bmatrix} + \n",
    "t \\begin{bmatrix} 2 \\\\ -8 \\\\ 2 \\end{bmatrix}\n",
    "$$\n",
    "\n"
   ],
   "cell_type": "markdown",
   "metadata": {}
  },
  {
   "source": [
    "## Question 6\n",
    "\n",
    "\n",
    "Let $L_1$ be the line passing through the points $Q_1(4, 4, −1)$ and $Q_2(3,2, −2)$ and let $L_2$ be the line passing through the point $P_1(−13, −9,10)$ with direction vector $d=[−4, −2, 4]^T$ Determine whether $L_1$ and $L_2$ intersect. If so, find the point of intersection $Q$.\n"
   ],
   "cell_type": "markdown",
   "metadata": {}
  },
  {
   "cell_type": "code",
   "execution_count": 41,
   "metadata": {},
   "outputs": [
    {
     "output_type": "stream",
     "name": "stdout",
     "text": [
      "-34\n[[-4]\n [4]\n [-6]]\n"
     ]
    },
    {
     "output_type": "error",
     "ename": "AttributeError",
     "evalue": "module 'numpy.linalg' has no attribute 'diag'",
     "traceback": [
      "\u001b[0;31m---------------------------------------------------------------------------\u001b[0m",
      "\u001b[0;31mAttributeError\u001b[0m                            Traceback (most recent call last)",
      "\u001b[0;32m<ipython-input-41-0c897d2e961a>\u001b[0m in \u001b[0;36m<module>\u001b[0;34m\u001b[0m\n\u001b[1;32m     10\u001b[0m \u001b[0mprint\u001b[0m\u001b[0;34m(\u001b[0m\u001b[0md2\u001b[0m\u001b[0;34m)\u001b[0m\u001b[0;34m\u001b[0m\u001b[0;34m\u001b[0m\u001b[0m\n\u001b[1;32m     11\u001b[0m \u001b[0;34m\u001b[0m\u001b[0m\n\u001b[0;32m---> 12\u001b[0;31m \u001b[0mprint\u001b[0m\u001b[0;34m(\u001b[0m\u001b[0mnp\u001b[0m\u001b[0;34m.\u001b[0m\u001b[0mlinalg\u001b[0m\u001b[0;34m.\u001b[0m\u001b[0mdiag\u001b[0m\u001b[0;34m(\u001b[0m\u001b[0;34m)\u001b[0m\u001b[0;34m)\u001b[0m\u001b[0;34m\u001b[0m\u001b[0;34m\u001b[0m\u001b[0m\n\u001b[0m\u001b[1;32m     13\u001b[0m \u001b[0;34m\u001b[0m\u001b[0m\n\u001b[1;32m     14\u001b[0m \u001b[0;34m-\u001b[0m\u001b[0;36m2\u001b[0m\u001b[0;34m\u001b[0m\u001b[0;34m\u001b[0m\u001b[0m\n",
      "\u001b[0;31mAttributeError\u001b[0m: module 'numpy.linalg' has no attribute 'diag'"
     ]
    }
   ],
   "source": [
    "q1 = np.array([[-2,-2,-5]]).T\n",
    "q2 = np.array([[-6,2,-11]]).T\n",
    "d2 = q2 - q1\n",
    "\n",
    "p1 = np.array([[-10,10,-20]]).T\n",
    "d1 = np.array([[3,-1,3]]).T\n",
    "\n",
    "\n",
    "print((d2.T@d1)[0][0])\n",
    "print(d2)\n",
    "\n",
    "print(\n",
    "\n",
    "-2"
   ]
  },
  {
   "source": [
    "$$\n",
    "L_1 = \\begin{bmatrix} x \\\\ y \\\\ z \\end{bmatrix} = \n",
    "\\begin{bmatrix} -2 \\\\ -2 \\\\ -5 \\end{bmatrix} + \n",
    "t \\begin{bmatrix} -4 \\\\ 4 \\\\ -6 \\end{bmatrix}\n",
    "$$\n",
    "$$\n",
    "\\begin{align*}\n",
    "x &= -2-4t \\\\\n",
    "y &= -2+8t \\\\ \n",
    "z &= -5-6t \n",
    "\\end{align*}\n",
    "$$\n",
    "$$\n",
    "L_2 = \n",
    "\\begin{bmatrix} x \\\\ y \\\\ z \\end{bmatrix} = \n",
    "\\begin{bmatrix} -10 \\\\ 10 \\\\ -20 \\end{bmatrix} + \n",
    "t \\begin{bmatrix} 3 \\\\ -1 \\\\ 3 \\end{bmatrix}\n",
    "$$\n",
    "$$\n",
    "\\begin{align*}\n",
    "x &= -10-3t \\\\\n",
    "y &= 10-1t \\\\ \n",
    "z &= -20+3t \n",
    "\\end{align*}\n",
    "$$\n",
    "\n",
    "\n"
   ],
   "cell_type": "markdown",
   "metadata": {}
  }
 ]
}