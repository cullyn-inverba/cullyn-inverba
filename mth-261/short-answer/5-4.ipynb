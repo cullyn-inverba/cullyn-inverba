{
 "metadata": {
  "language_info": {
   "codemirror_mode": {
    "name": "ipython",
    "version": 3
   },
   "file_extension": ".py",
   "mimetype": "text/x-python",
   "name": "python",
   "nbconvert_exporter": "python",
   "pygments_lexer": "ipython3",
   "version": "3.9.5-final"
  },
  "orig_nbformat": 2,
  "kernelspec": {
   "name": "python39264bitlinearvenv6ce40b61835845b0a51e3922e69d679e",
   "display_name": "Python 3.9.2 64-bit ('linear': venv)"
  }
 },
 "nbformat": 4,
 "nbformat_minor": 2,
 "cells": [
  {
   "cell_type": "code",
   "execution_count": 513,
   "metadata": {},
   "outputs": [],
   "source": [
    "import numpy as np\n",
    "from scipy.linalg import *\n",
    "from termcolor import colored"
   ]
  },
  {
   "source": [
    "## Question 1\n",
    "\n",
    "Consider the following matrix A and its reduced row-echelon form:\n",
    "\n",
    "---\n",
    "\n",
    "Find the dimensions of row(A), null(A), and im(A), and give a basis for each of them."
   ],
   "cell_type": "markdown",
   "metadata": {}
  },
  {
   "cell_type": "code",
   "execution_count": 514,
   "metadata": {},
   "outputs": [
    {
     "output_type": "stream",
     "name": "stdout",
     "text": [
      "Dimeionsion of rowspace = 3\n\n[[-1]\n [3]\n [-2]\n [-6]\n [-4]\n [2]] \n\n[[0]\n [-1]\n [0]\n [3]\n [2]\n [-1]] \n\n[[0]\n [0]\n [0]\n [0]\n [0]\n [-1]] \n\n--------------------\nDimeionsion of nullspace = 3\n\n[[-2]\n [0]\n [1]\n [0]\n [0]\n [0]] \n\n[[3]\n [3]\n [0]\n [1]\n [0]\n [0]] \n\n[[2]\n [2]\n [0]\n [0]\n [1]\n [0]] \n\n--------------------\nDimeionsion of columnspace = 3\n\n[[-1]\n [-1]\n [0]\n [-1]] \n\n[[3]\n [3]\n [0]\n [4]] \n\n[[2]\n [3]\n [-1]\n [3]] \n\n--------------------\n"
     ]
    }
   ],
   "source": [
    "A = Matrix([\n",
    "    [-1,3,-2,-6,-4,2],\n",
    "    [-1,3,-2,-6,-4,3],\n",
    "    [0,0,0,0,0,-1],\n",
    "    [-1,4,-2,-9,-6,3]\n",
    "])\n",
    "\n",
    "\n",
    "RA = A.rowspace()\n",
    "print(f'Dimeionsion of rowspace = {len(RA)}\\n')\n",
    "for i in range(len(RA)):\n",
    "    print(np.array(RA)[i].T,'\\n')\n",
    "print('-'*20)\n",
    "\n",
    "NA = A.nullspace()\n",
    "print(f'Dimeionsion of nullspace = {len(NA)}\\n')\n",
    "for i in range(len(NA)):\n",
    "    print(np.array(NA)[i],'\\n')\n",
    "print('-'*20)\n",
    "-2  \n",
    "CA = A.columnspace()\n",
    "print(f'Dimeionsion of columnspace = {len(CA)}\\n')\n",
    "for i in range(len(CA)):\n",
    "    print(np.array(CA)[i],'\\n')\n",
    "print('-'*20)"
   ]
  },
  {
   "source": [
    "## Question 2\n",
    "\n",
    "Consider the following matrix A:\n",
    "\n",
    "[ ]\n",
    "\n",
    "For each of the following vectors, determine whether the vector is in the column space of A. If so, demonstrate this by providing a vector x so that $A\\vec{x}=\\vec{b}_i$.\n",
    "\n",
    "\n"
   ],
   "cell_type": "markdown",
   "metadata": {}
  },
  {
   "cell_type": "code",
   "execution_count": 554,
   "metadata": {},
   "outputs": [
    {
     "output_type": "stream",
     "name": "stdout",
     "text": [
      "Dimeionsion of columnspace = 2\n\n[[2]\n [1]\n [-2]] \n\n[[2]\n [4]\n [-5]] \n\n--------------------\nMatrix used to find regression coefficients ↓\n[[ 2  2]\n [ 1  4]\n [-2 -5]]\n\nx = \n[[-2]\n [-4]\n [ 0]]\n\nb = \n [[-12]\n [-18]\n [ 24]]\n\nAx = b? (is b in columspace of A?) True\n\n--------------------\nx = \n[[2]\n [0]\n [0]]\n\nb = \n [[ 4]\n [ 2]\n [-4]]\n\nAx = b? (is b in columspace of A?) True\n\n--------------------\nx = \n[[-7]\n [ 4]\n [ 0]]\n\nb = \n [[-6]\n [ 9]\n [-6]]\n\nAx = b? (is b in columspace of A?) False\n\n--------------------\n"
     ]
    }
   ],
   "source": [
    "A = np.array([\n",
    "    [2,2,-6],\n",
    "    [1,4,-6],\n",
    "    [-2,-5,9]\n",
    "])\n",
    "\n",
    "b1 = np.array([[-12,-18,24]]).T\n",
    "b2 = np.array([[4,2,-4]]).T\n",
    "b3 = np.array([[-10,2,-9]]).T\n",
    "\n",
    "CA = Matrix(A).columnspace()\n",
    "print(f'Dimeionsion of columnspace = {len(CA)}\\n')\n",
    "for i in range(len(CA)):\n",
    "    print(np.array(CA)[i],'\\n')\n",
    "print('-'*20)\n",
    "\n",
    "# Remove linearly dependent column \n",
    "n = 3 # <--- column not found in columnsapce (starting at 1) \n",
    "#   ^ needs to be edited\n",
    "\n",
    "B = np.delete(A,n-1,axis=1)\n",
    "print(f'Matrix used to find regression coefficients ↓\\n{B}\\n')\n",
    "\n",
    "# Find left inverse, use to find regression coefficients\n",
    "Linv = np.linalg.inv((B.T@B))@B.T\n",
    "\n",
    "def coefficients(A, Linv,b):\n",
    "    x = np.round(Linv@b)\n",
    "    x = np.array([np.insert(x,n-1,0)]).T.astype(int)\n",
    "    print(f'x = \\n{x}\\n')\n",
    "    print(f'b = \\n {A@x}\\n')\n",
    "    print(f'Ax = b? (is b in columspace of A?) {(A@x==b).all()}\\n')\n",
    "    print('-'*20,)\n",
    "    \n",
    "# Brrrrrrrrrrrrrr, feels good \n",
    "coefficients(A,Linv,b1)\n",
    "coefficients(A,Linv,b2)\n",
    "coefficients(A,Linv,b3)\n",
    "\n"
   ]
  },
  {
   "source": [
    "## Question 3\n",
    "\n",
    "Give a basis for the column space of the matrix A using only columns of A in your basis."
   ],
   "cell_type": "markdown",
   "metadata": {}
  },
  {
   "cell_type": "code",
   "execution_count": 555,
   "metadata": {},
   "outputs": [
    {
     "output_type": "stream",
     "name": "stdout",
     "text": [
      "Dimeionsion of columnspace = 2\n\n[[0]\n [1]\n [0]] \n\n[[3]\n [-2]\n [-2]] \n\n--------------------\n"
     ]
    }
   ],
   "source": [
    "A = Matrix([\n",
    "    [0,3,6,0],\n",
    "    [1,-2,1,-1],\n",
    "    [0,-2,-4,0]\n",
    "])\n",
    "\n",
    "CA = A.columnspace()\n",
    "print(f'Dimeionsion of columnspace = {len(CA)}\\n')\n",
    "for i in range(len(CA)):\n",
    "    print(np.array(CA)[i],'\\n')\n",
    "print('-'*20)"
   ]
  },
  {
   "source": [
    "## Question  4 ? Same as question 1?"
   ],
   "cell_type": "markdown",
   "metadata": {}
  },
  {
   "cell_type": "code",
   "execution_count": 556,
   "metadata": {},
   "outputs": [
    {
     "output_type": "stream",
     "name": "stdout",
     "text": [
      "Dimeionsion of rowspace = 3\n\n[[2]\n [6]\n [-2]\n [-8]\n [-6]\n [8]] \n\n[[0]\n [0]\n [2]\n [-2]\n [6]\n [-6]] \n\n[[0]\n [0]\n [0]\n [0]\n [2]\n [-2]] \n\n--------------------\nDimeionsion of nullspace = 3\n\n[[-3]\n [1]\n [0]\n [0]\n [0]\n [0]] \n\n[[5]\n [0]\n [1]\n [1]\n [0]\n [0]] \n\n[[-1]\n [0]\n [0]\n [0]\n [1]\n [1]] \n\n--------------------\nDimeionsion of columnspace = 3\n\n[[2]\n [-4]\n [-2]\n [-1]] \n\n[[-2]\n [4]\n [2]\n [2]] \n\n[[-6]\n [10]\n [7]\n [6]] \n\n--------------------\n"
     ]
    }
   ],
   "source": [
    "A = Matrix([\n",
    "    [2,6,-2,-8,-6,8],\n",
    "    [-4,-12,4,16,10,-14],\n",
    "    [-2,-6,2,8,7,-9],\n",
    "    [-1,-3,2,3,6,-7]\n",
    "])\n",
    "\n",
    "\n",
    "RA = A.rowspace()\n",
    "print(f'Dimeionsion of rowspace = {len(RA)}\\n')\n",
    "for i in range(len(RA)):\n",
    "    print(np.array(RA)[i].T,'\\n')\n",
    "print('-'*20)\n",
    "\n",
    "NA = A.nullspace()\n",
    "print(f'Dimeionsion of nullspace = {len(NA)}\\n')\n",
    "for i in range(len(NA)):\n",
    "    print(np.array(NA)[i],'\\n')\n",
    "print('-'*20)\n",
    "-2  \n",
    "CA = A.columnspace()\n",
    "print(f'Dimeionsion of columnspace = {len(CA)}\\n')\n",
    "for i in range(len(CA)):\n",
    "    print(np.array(CA)[i],'\\n')\n",
    "print('-'*20)"
   ]
  },
  {
   "source": [
    "## Question 5 \n",
    "No code for this one"
   ],
   "cell_type": "markdown",
   "metadata": {}
  }
 ]
}