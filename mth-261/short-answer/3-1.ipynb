{
 "metadata": {
  "language_info": {
   "codemirror_mode": {
    "name": "ipython",
    "version": 3
   },
   "file_extension": ".py",
   "mimetype": "text/x-python",
   "name": "python",
   "nbconvert_exporter": "python",
   "pygments_lexer": "ipython3",
   "version": "3.9.4-final"
  },
  "orig_nbformat": 2,
  "kernelspec": {
   "name": "python39264bitlinearvenv6ce40b61835845b0a51e3922e69d679e",
   "display_name": "Python 3.9.2 64-bit ('linear': venv)"
  }
 },
 "nbformat": 4,
 "nbformat_minor": 2,
 "cells": [
  {
   "cell_type": "code",
   "execution_count": 1,
   "metadata": {},
   "outputs": [],
   "source": [
    "import numpy as np\n",
    "from sympy import *"
   ]
  },
  {
   "source": [
    "## Question 1\n",
    "\n",
    " Use the ~~cofactor expansion~~ **python**\n",
    " to compute the following determinant:"
   ],
   "cell_type": "markdown",
   "metadata": {}
  },
  {
   "cell_type": "code",
   "execution_count": 2,
   "metadata": {},
   "outputs": [
    {
     "output_type": "stream",
     "name": "stdout",
     "text": [
      "-1440.0000000000005\n"
     ]
    }
   ],
   "source": [
    "A = np.array([\n",
    "    [-3,10,-5],\n",
    "    [10,4,-8],\n",
    "    [-7,10,10]\n",
    "])\n",
    "\n",
    "print(np.linalg.det(A))"
   ]
  },
  {
   "source": [
    "## Question 2\n",
    "\n",
    "Find a formula in terms of k for the following determinant:"
   ],
   "cell_type": "markdown",
   "metadata": {}
  },
  {
   "cell_type": "code",
   "execution_count": 3,
   "metadata": {},
   "outputs": [
    {
     "output_type": "stream",
     "name": "stdout",
     "text": [
      "[-1, 4, 4] [0, -7, -1] [7, k, -2] [-1, 4, 7] [-2, -7, -1] [4, k, 0]\n-16 + 0 + -14*k - -28 - -14 - 0\n\ndet(A) in terms of k = 26 - 14*k\n"
     ]
    }
   ],
   "source": [
    "k = Symbol('k')\n",
    "\n",
    "afj, bgh, cei, hfc, iga, jeb = [], [], [], [], [], []\n",
    "\n",
    "A = np.array([\n",
    "    [-1,0,7],\n",
    "    [k,4,-7],\n",
    "    [-1,-2,4]\n",
    "])\n",
    "\n",
    "# Only works for 3x3 matrices\n",
    "# Uses the Rule of Sarrus method\n",
    "def sarrus(A):\n",
    "    for i in range(3):\n",
    "        afj.append(A[i][i])\n",
    "        hfc.append(A[2+(-1*i)][i])\n",
    "\n",
    "    bgh.append(A[0][1])\n",
    "    bgh.append(A[1][2])\n",
    "    bgh.append(A[2][0])\n",
    "\n",
    "    cei.append(A[0][2])\n",
    "    cei.append(A[1][0])\n",
    "    cei.append(A[2][1])\n",
    "\n",
    "    iga.append(A[2][1])\n",
    "    iga.append(A[1][2])\n",
    "    iga.append(A[0][0])\n",
    "\n",
    "    jeb.append(A[2][2])\n",
    "    jeb.append(A[1][0])\n",
    "    jeb.append(A[0][1])\n",
    "\n",
    "\n",
    "sarrus(A)\n",
    "\n",
    "# Double checking work\n",
    "print(afj,bgh,cei,hfc,iga,jeb)\n",
    "\n",
    "# Shows partial breakdown of A, if A is:\n",
    "# [a b c]\n",
    "# [e f g]\n",
    "# [h i j] \n",
    "# afj + bgh + cei - hfc - iga - jeb\n",
    "print(\n",
    "    np.prod(afj),'+',np.prod(bgh),'+',np.prod(cei),\n",
    "    '-',\n",
    "    np.prod(hfc),'-',np.prod(iga),'-',prod(jeb)\n",
    "    )\n",
    "\n",
    "res = np.prod(afj) + np.prod(bgh) + np.prod(cei) - np.prod(hfc) - np.prod(iga) - np.prod(jeb)\n",
    "\n",
    "print('')\n",
    "print('det(A) in terms of k =',res)"
   ]
  },
  {
   "source": [
    "## Question 3\n",
    "\n",
    "Let A be a 2×2 (can change) matrix and suppose that det(A)=6 (can cahnge). For each of the following row operations, determine the value of det(B), where B is the matrix obtained by applying that row operation to A (can change)."
   ],
   "cell_type": "markdown",
   "metadata": {}
  },
  {
   "cell_type": "code",
   "execution_count": 4,
   "metadata": {},
   "outputs": [
    {
     "output_type": "stream",
     "name": "stdout",
     "text": [
      "Multiplied a row by some scalar: det = 12\nSwaped two rows (doesn't matter which): det = -4\nAdded one row to another (does nothing): det = 4\n"
     ]
    }
   ],
   "source": [
    "# Input determinant given in problem\n",
    "det = 4\n",
    "\n",
    "def operations(type, value=1):\n",
    "    if type == 'scale':\n",
    "        print('Multiplied a row by some scalar: det =',det * value)\n",
    "    elif type == 'swap':\n",
    "        print('Swaped two rows (doesn\\'t matter which): det =',-1*det)\n",
    "    elif type == 'add':\n",
    "        print('Added one row to another (does nothing): det =',det)\n",
    "    else:\n",
    "        print('Types accepted: scale (needs value if so, default is 1), swap, and add')\n",
    "        print('Please try again')\n",
    "\n",
    "\n",
    "operations('scale',3)\n",
    "\n",
    "operations('swap')\n",
    "\n",
    "operations('add')"
   ]
  },
  {
   "source": [
    "## Question 4\n",
    "\n",
    "Compute the determinant of the matrix A, below, by using row operations to transform A to an upper-triangular matrix B. Then express the determinant of A as a multiple k of the determinant of B, and use this to compute the determinant of A.\n",
    "\n"
   ],
   "cell_type": "markdown",
   "metadata": {}
  },
  {
   "cell_type": "code",
   "execution_count": 18,
   "metadata": {},
   "outputs": [
    {
     "output_type": "stream",
     "name": "stdout",
     "text": [
      "[[-67.82329983  53.22654617  28.45629754 -77.25958503]\n [  0.         -10.8597782   -8.59774145   3.38304611]\n [  0.           0.          -4.39522154   8.96239353]\n [  0.           0.           0.           0.43246144]]\n \n-1400.000000000006\n1399.999999999996\n"
     ]
    }
   ],
   "source": [
    "# I use QR decomposition here to find upper right triangle, R\n",
    "\n",
    "A = np.array([\n",
    "    [10,-1,2,8],\n",
    "    [30,-18,-11,38],\n",
    "    [0,5,7,-8],\n",
    "    [-60,51,27,-67]\n",
    "])\n",
    "\n",
    "Q,R = np.linalg.qr(A)\n",
    "\n",
    "print(R)\n",
    "print(' ')\n",
    "print(np.linalg.det(R))\n",
    "print(np.linalg.det(A))\n",
    "\n"
   ]
  },
  {
   "source": [
    "## Question 5\n"
   ],
   "cell_type": "markdown",
   "metadata": {}
  },
  {
   "cell_type": "code",
   "execution_count": null,
   "metadata": {},
   "outputs": [],
   "source": []
  }
 ]
}