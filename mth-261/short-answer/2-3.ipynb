{
 "metadata": {
  "language_info": {
   "codemirror_mode": {
    "name": "ipython",
    "version": 3
   },
   "file_extension": ".py",
   "mimetype": "text/x-python",
   "name": "python",
   "nbconvert_exporter": "python",
   "pygments_lexer": "ipython3",
   "version": "3.9.4-final"
  },
  "orig_nbformat": 2,
  "kernelspec": {
   "name": "python39264bitlinearvenv6ce40b61835845b0a51e3922e69d679e",
   "display_name": "Python 3.9.2 64-bit ('linear': venv)"
  }
 },
 "nbformat": 4,
 "nbformat_minor": 2,
 "cells": [
  {
   "cell_type": "code",
   "execution_count": null,
   "metadata": {},
   "outputs": [],
   "source": [
    "import numpy as np\n",
    "import matplotlib.pyplot as plt"
   ]
  },
  {
   "cell_type": "code",
   "execution_count": null,
   "metadata": {},
   "outputs": [],
   "source": [
    "# Question 1\n",
    "\n",
    "# Left Matrix\n",
    "L = np.array([\n",
    "    [],\n",
    "    []\n",
    "])\n",
    "\n",
    "# Right Matrix\n",
    "R = np.array([\n",
    "    [],\n",
    "    []\n",
    "])\n",
    "\n",
    "# Print Result (@ = dot product, i.e., standard matrix mult)\n",
    "print(L@R)"
   ]
  },
  {
   "cell_type": "code",
   "execution_count": null,
   "metadata": {},
   "outputs": [],
   "source": [
    "# Question 2 (larger matrix)\n",
    "\n",
    "# Left Matrix\n",
    "L = np.array([\n",
    "    [],\n",
    "    [],\n",
    "    []\n",
    "])\n",
    "\n",
    "# Right Matrix\n",
    "R = np.array([\n",
    "    [],\n",
    "    [],\n",
    "    []\n",
    "])\n",
    "\n",
    "# Print Result\n",
    "print(L@R)"
   ]
  },
  {
   "cell_type": "code",
   "execution_count": null,
   "metadata": {},
   "outputs": [],
   "source": [
    "# Question 3 (L(n) = R(m) ✔️, result = m x n)\n",
    "\n",
    "# Left Matrix\n",
    "L = np.array([\n",
    "    [],\n",
    "    [],\n",
    "])\n",
    "\n",
    "# Right Matrix\n",
    "R = np.array([\n",
    "    [],\n",
    "    [],\n",
    "    []\n",
    "])\n",
    "\n",
    "# Print Result\n",
    "print(L@R)"
   ]
  },
  {
   "cell_type": "code",
   "execution_count": null,
   "metadata": {},
   "outputs": [],
   "source": [
    "# Question 4 (L(n) = R(m) ✔️, result = m x n)\n",
    "\n",
    "# Left Matrix\n",
    "L = np.array([\n",
    "    [],\n",
    "    [],\n",
    "])\n",
    "\n",
    "# Right Matrix\n",
    "R = np.array([\n",
    "    [],\n",
    "    [],\n",
    "    [],\n",
    "    []\n",
    "])\n",
    "\n",
    "# Print Result\n",
    "print(L@R)"
   ]
  },
  {
   "cell_type": "code",
   "execution_count": null,
   "metadata": {},
   "outputs": [],
   "source": [
    "# Question 4 (L(n) = R(m) ✔️, result = m x n)\n",
    "\n",
    "# Left Matrix\n",
    "L = np.array([\n",
    "    [],\n",
    "    [],\n",
    "])\n",
    "\n",
    "# Right Matrix\n",
    "R = np.array([\n",
    "    [],\n",
    "    [],\n",
    "    [],\n",
    "    []\n",
    "])\n",
    "\n",
    "# Print Result\n",
    "print(L@R)"
   ]
  },
  {
   "cell_type": "code",
   "execution_count": 1,
   "metadata": {},
   "outputs": [
    {
     "output_type": "error",
     "ename": "NameError",
     "evalue": "name 'm' is not defined",
     "traceback": [
      "\u001b[0;31m---------------------------------------------------------------------------\u001b[0m",
      "\u001b[0;31mNameError\u001b[0m                                 Traceback (most recent call last)",
      "\u001b[0;32m<ipython-input-1-ede5cb698098>\u001b[0m in \u001b[0;36m<module>\u001b[0;34m\u001b[0m\n\u001b[1;32m     20\u001b[0m \u001b[0;34m\u001b[0m\u001b[0m\n\u001b[1;32m     21\u001b[0m \u001b[0;31m# update row one based on given sized matrix\u001b[0m\u001b[0;34m\u001b[0m\u001b[0;34m\u001b[0m\u001b[0;34m\u001b[0m\u001b[0m\n\u001b[0;32m---> 22\u001b[0;31m \u001b[0;32mfor\u001b[0m \u001b[0mi\u001b[0m \u001b[0;32min\u001b[0m \u001b[0mrange\u001b[0m\u001b[0;34m(\u001b[0m\u001b[0mm\u001b[0m\u001b[0;34m-\u001b[0m\u001b[0;36m1\u001b[0m\u001b[0;34m)\u001b[0m\u001b[0;34m:\u001b[0m\u001b[0;34m\u001b[0m\u001b[0;34m\u001b[0m\u001b[0m\n\u001b[0m\u001b[1;32m     23\u001b[0m     \u001b[0mrow_1\u001b[0m\u001b[0;34m.\u001b[0m\u001b[0mappend\u001b[0m\u001b[0;34m(\u001b[0m\u001b[0;36m1\u001b[0m\u001b[0;34m)\u001b[0m\u001b[0;34m\u001b[0m\u001b[0;34m\u001b[0m\u001b[0m\n\u001b[1;32m     24\u001b[0m \u001b[0;34m\u001b[0m\u001b[0m\n",
      "\u001b[0;31mNameError\u001b[0m: name 'm' is not defined"
     ]
    }
   ],
   "source": [
    "# Question 5, find a non-zero sqaure matrix! \n",
    "# Hmm.. what about almost 0?\n",
    "\n",
    "# There's probably a better way to do this, I really don't know python that well lol\n",
    "\n",
    "from fractions import Fraction\n",
    "\n",
    "# Easiest route is to set rest of matrix to 0,\n",
    "# with x_1 and x_2 = 1 for first row\n",
    "# with only finding x_3, i.e.,\n",
    "# [x_1, x_1, x_3]\n",
    "# [0, 0, 0]\n",
    "# [0, 0, 0]\n",
    "\n",
    "# Given vector (this is only inpuit)\n",
    "x = []\n",
    "\n",
    "# Row 1, i.e., the result (leave blank)\n",
    "row_1 = []\n",
    "\n",
    "# update row one based on given sized matrix\n",
    "for i in range(m-1):\n",
    "    row_1.append(1)\n",
    "\n",
    "# Find x_3 and add to row 1 result\n",
    "row_1.append(Fraction((-1*(sum(x[:-1])/x[-1]))).limit_denominator(1000))\n",
    "\n",
    "# Fraction(numerator, denomintor)\n",
    "print(row_1)"
   ]
  },
  {
   "cell_type": "code",
   "execution_count": null,
   "metadata": {},
   "outputs": [],
   "source": []
  }
 ]
}