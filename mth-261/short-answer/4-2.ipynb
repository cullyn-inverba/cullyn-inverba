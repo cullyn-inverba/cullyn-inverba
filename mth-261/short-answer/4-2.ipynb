{
 "metadata": {
  "language_info": {
   "codemirror_mode": {
    "name": "ipython",
    "version": 3
   },
   "file_extension": ".py",
   "mimetype": "text/x-python",
   "name": "python",
   "nbconvert_exporter": "python",
   "pygments_lexer": "ipython3",
   "version": "3.9.5-final"
  },
  "orig_nbformat": 2,
  "kernelspec": {
   "name": "python39264bitlinearvenv6ce40b61835845b0a51e3922e69d679e",
   "display_name": "Python 3.9.2 64-bit ('linear': venv)"
  }
 },
 "nbformat": 4,
 "nbformat_minor": 2,
 "cells": [
  {
   "cell_type": "code",
   "execution_count": 1,
   "metadata": {},
   "outputs": [],
   "source": [
    "import numpy as np\n",
    "from sympy import *\n",
    "import math as m\n",
    "from fractions import Fraction"
   ]
  },
  {
   "source": [
    "## Question 1\n",
    "\n",
    " Compute the dot product of the vectors **u** and **v** below.\n"
   ],
   "cell_type": "markdown",
   "metadata": {}
  },
  {
   "cell_type": "code",
   "execution_count": 2,
   "metadata": {},
   "outputs": [
    {
     "output_type": "stream",
     "name": "stdout",
     "text": [
      "89\n"
     ]
    }
   ],
   "source": [
    "u = np.array([-9,0,2])\n",
    "v = np.array([-9,1,4])\n",
    "\n",
    "print(u@v)"
   ]
  },
  {
   "source": [
    "## Question 2\n",
    "\n",
    "Find x so that the dot product of the vectors u and v below is −22.\n"
   ],
   "cell_type": "markdown",
   "metadata": {}
  },
  {
   "cell_type": "code",
   "execution_count": 3,
   "metadata": {},
   "outputs": [
    {
     "output_type": "stream",
     "name": "stdout",
     "text": [
      "2\n"
     ]
    }
   ],
   "source": [
    "x = symbols('x')\n",
    "\n",
    "u = np.array([1,-7,-1])\n",
    "v = np.array([x+22,3,3])\n",
    "\n",
    "print(solve(u@v,x)[0])"
   ]
  },
  {
   "source": [
    "## Question 3\n",
    "\n",
    "Find the angle θ (in radians) between the vectors u and v below."
   ],
   "cell_type": "markdown",
   "metadata": {}
  },
  {
   "cell_type": "code",
   "execution_count": 4,
   "metadata": {},
   "outputs": [
    {
     "output_type": "stream",
     "name": "stdout",
     "text": [
      "-6.0\n√36.0\n-0.8660254037844387\n-0.8660254037844386\n"
     ]
    }
   ],
   "source": [
    "u = np.array([-3/2,0,-(3**0.5)/2])\n",
    "v = np.array([3,2,3**0.5])\n",
    "\n",
    "dot = u@v\n",
    "\n",
    "print(dot)\n",
    "#in case sqrt is needed\n",
    "print(f'√{(dot)**2}')\n",
    "\n",
    "uhat = np.linalg.norm(u)\n",
    "vhat = np.linalg.norm(v)\n",
    "cos = dot/(uhat*vhat)\n",
    "\n",
    "print(cos)\n",
    "# check angle\n",
    "print(-(3**0.5)/2)\n",
    "\n",
    "\n"
   ]
  },
  {
   "source": [
    "## Question 4\n",
    "\n",
    "Find x so that the vectors u and v below are perpendicular.\n"
   ],
   "cell_type": "markdown",
   "metadata": {}
  },
  {
   "cell_type": "code",
   "execution_count": 5,
   "metadata": {},
   "outputs": [
    {
     "output_type": "stream",
     "name": "stdout",
     "text": [
      "[42]\n"
     ]
    }
   ],
   "source": [
    "u = np.array([-8,-10,x])\n",
    "v = np.array([-7,-7,-3])\n",
    "\n",
    "print(solve(u@v,x))"
   ]
  },
  {
   "source": [
    "## Question 5\n",
    "\n",
    "Compute the orthogonal projection of u onto v. Use the square root symbol '√' where needed to give an exact value for your answer. \n"
   ],
   "cell_type": "markdown",
   "metadata": {}
  },
  {
   "cell_type": "code",
   "execution_count": 7,
   "metadata": {},
   "outputs": [
    {
     "output_type": "stream",
     "name": "stdout",
     "text": [
      "[-23/11 23/11 69/11]\n"
     ]
    }
   ],
   "source": [
    "u = np.array([-9,8,2])\n",
    "v = np.array([-1,1,3])\n",
    "\n",
    "mapping = u@v\n",
    "magintude = np.linalg.norm(v)**2\n",
    "\n",
    "proj_vu = mapping/magintude * v\n",
    "\n",
    "with np.printoptions(formatter={'all':lambda x: str(Fraction(x).limit_denominator())}): \n",
    "    print(proj_vu)\n"
   ]
  },
  {
   "source": [
    "## Question 6\n",
    "\n",
    "Express the vector u below as a sum of two vectors u1 and u2, where u1 is parallel to the vector v given below, and u2 is perpendicular to v. Make sure that the first vector in your sum is u1 and the second is u2. Use the square root symbol '√' where needed to give an exact value for your answer."
   ],
   "cell_type": "markdown",
   "metadata": {}
  },
  {
   "cell_type": "code",
   "execution_count": 8,
   "metadata": {},
   "outputs": [
    {
     "output_type": "stream",
     "name": "stdout",
     "text": [
      "u1 = [-6/7 -12/7 -18/7], u2 = [-36/7 -51/7 46/7]\n"
     ]
    }
   ],
   "source": [
    "v = np.array([-1,-2,-3])\n",
    "u = np.array([-6,-9,4])\n",
    "\n",
    "mapping = u@v\n",
    "magintude = np.linalg.norm(v)**2\n",
    "\n",
    "proj_vu = mapping/magintude * v    \n",
    "\n",
    "u1 = proj_vu\n",
    "u2 = u - u1\n",
    "\n",
    "with np.printoptions(formatter={'all':lambda x: str(Fraction(x).limit_denominator())}): \n",
    "    print(f'u1 = {u1}, u2 = {u2}')\n"
   ]
  },
  {
   "source": [
    "## Question 7\n",
    "\n",
    "Find the shortest distance d from the point $P_0$ to $L$, and the point $Q$ on $L$ that is closest to $P_0$. Use the square root symbol '√' where needed to give an exact value for your answer. "
   ],
   "cell_type": "markdown",
   "metadata": {}
  },
  {
   "cell_type": "code",
   "execution_count": 16,
   "metadata": {},
   "outputs": [
    {
     "output_type": "stream",
     "name": "stdout",
     "text": [
      "[2 0 7]\n6.4031242374328485\n√41\n"
     ]
    }
   ],
   "source": [
    "t = symbols('t')\n",
    "\n",
    "P0 = np.array([-4,1,5])\n",
    "L = np.array([4+1*t,4+2*t,3-2*t]) # <-- these need to match\n",
    "# Directional vector (d, I call a), i.e., the scalars of t (sometimes given, use to make equation for L in that case)\n",
    "a = np.array([1,2,-2])\n",
    "# Vector from P0 -> L \n",
    "b = L - P0\n",
    "# Find t\n",
    "t = solve(a@b)[0]\n",
    "# Plug t back into eqaution for line\n",
    "Q = np.array([4+1*t,4+2*t,3-2*t]) # <-- these need to match\n",
    "print(Q)\n",
    "\n",
    "t = float(t)\n",
    "Q = np.array([4+1*t,4+2*t,3-2*t]) # <-- these need to match\n",
    "b = Q-P0\n",
    "d = np.linalg.norm(b)\n",
    "\n",
    "print(d)\n",
    "# sometimes this works, sometimes it doesn't. Depends on float point precision errors I think\n",
    "print(f'√{Fraction(d**2).limit_denominator()}')"
   ]
  },
  {
   "source": [
    "## Question 8"
   ],
   "cell_type": "markdown",
   "metadata": {}
  },
  {
   "cell_type": "code",
   "execution_count": null,
   "metadata": {},
   "outputs": [],
   "source": []
  },
  {
   "source": [
    "## Question 9"
   ],
   "cell_type": "markdown",
   "metadata": {}
  },
  {
   "cell_type": "code",
   "execution_count": null,
   "metadata": {},
   "outputs": [],
   "source": []
  },
  {
   "source": [
    "## Question 10"
   ],
   "cell_type": "markdown",
   "metadata": {}
  },
  {
   "cell_type": "code",
   "execution_count": null,
   "metadata": {},
   "outputs": [],
   "source": []
  },
  {
   "source": [
    "## Question 11\n"
   ],
   "cell_type": "markdown",
   "metadata": {}
  },
  {
   "cell_type": "code",
   "execution_count": null,
   "metadata": {},
   "outputs": [],
   "source": []
  },
  {
   "source": [],
   "cell_type": "markdown",
   "metadata": {}
  }
 ]
}