{
 "metadata": {
  "language_info": {
   "codemirror_mode": {
    "name": "ipython",
    "version": 3
   },
   "file_extension": ".py",
   "mimetype": "text/x-python",
   "name": "python",
   "nbconvert_exporter": "python",
   "pygments_lexer": "ipython3",
   "version": "3.9.5-final"
  },
  "orig_nbformat": 2,
  "kernelspec": {
   "name": "python39264bitlinearvenv6ce40b61835845b0a51e3922e69d679e",
   "display_name": "Python 3.9.2 64-bit ('linear': venv)"
  }
 },
 "nbformat": 4,
 "nbformat_minor": 2,
 "cells": [
  {
   "cell_type": "code",
   "execution_count": 22,
   "metadata": {},
   "outputs": [],
   "source": [
    "import numpy as np\n",
    "from sympy import *\n",
    "from fractions import Fraction"
   ]
  },
  {
   "cell_type": "code",
   "execution_count": 23,
   "metadata": {},
   "outputs": [
    {
     "output_type": "execute_result",
     "data": {
      "text/plain": [
       "Matrix([\n",
       "[1, 0, -2],\n",
       "[0, 1, -5],\n",
       "[0, 0,  0],\n",
       "[0, 0,  0]])"
      ],
      "text/latex": "$\\displaystyle \\left[\\begin{matrix}1 & 0 & -2\\\\0 & 1 & -5\\\\0 & 0 & 0\\\\0 & 0 & 0\\end{matrix}\\right]$"
     },
     "metadata": {},
     "execution_count": 23
    }
   ],
   "source": [
    "A = np.array([\n",
    "    [7,-3,1],\n",
    "    [2,1,-9],\n",
    "    [9,-6,12],\n",
    "    [-3,2,-4]\n",
    "])\n",
    "\n",
    "Matrix(A).rref()[0]"
   ]
  },
  {
   "cell_type": "code",
   "execution_count": 24,
   "metadata": {},
   "outputs": [
    {
     "output_type": "stream",
     "name": "stdout",
     "text": [
      "------------------------------\n[[ 1  7 -3]\n [-9  2  1]\n [12  9 -6]\n [-4 -3  2]]\n  rref 🠗\n[[1 0 -1/5]\n [0 1 -2/5]\n [0 0 0]\n [0 0 0]]\n\nDimeionsion of nullspace = 2\n\n[[-21/13]\n [15/13]\n [1]\n [0]]\n\n[-21*u/13 + 15*v/13 + w] = 0\n\n[[7/13]\n [-5/13]\n [0]\n [1]]\n\n[7*u/13 - 5*v/13 + x] = 0\n\n------------------------------\nDimeionsion of columnspace = 2\n\n[[1]\n [-9]\n [12]\n [-4]] \n\n[[7]\n [2]\n [9]\n [-3]] \n\n------------------------------\n"
     ]
    }
   ],
   "source": [
    "def linearDependence(a,b,c,d):\n",
    "    print('-'*30)\n",
    "    a = np.array([a])\n",
    "    b = np.array([b])\n",
    "    c = np.array([c])\n",
    "    d = np.array([d])\n",
    "\n",
    "    u,v,w,x = symbols('u,v,w,x')\n",
    "    symbolic = np.array([u,v,w,x])\n",
    "\n",
    "    A = np.concatenate((a,b,c,d))\n",
    "    print(A)\n",
    "    print('  rref 🠗')\n",
    "    print(np.array(Matrix(A).rref()[0]))\n",
    "    # check leftnullspace for linear dependence\n",
    "    # return vector required to reach zero vector if true\n",
    "    ANul = np.array(Matrix(A.T).nullspace())\n",
    "    if len(ANul) >= 1:\n",
    "        print(f'\\nDimeionsion of nullspace = {len(ANul)}\\n')\n",
    "        for i in range(len(ANul)):\n",
    "            cokernel = np.array(ANul)[i]\n",
    "            print(cokernel)\n",
    "            print(f'\\n{symbolic@cokernel} = 0\\n')\n",
    "        print('-'*30)\n",
    "        CA = Matrix(A).columnspace()\n",
    "        print(f'Dimeionsion of columnspace = {len(CA)}\\n')\n",
    "        for i in range(len(CA)):\n",
    "            print(np.array(CA)[i],'\\n')\n",
    "        print('-'*30)\n",
    "    else:\n",
    "        print('\\nVectors are linearly independent')\n",
    "        print('-'*30)\n",
    "\n",
    "\n",
    "linearDependence(\n",
    "    [1,7,-3],\n",
    "    [-9,2,1],\n",
    "    [12,9,-6],\n",
    "    [-4,-3,2]\n",
    ")"
   ]
  },
  {
   "cell_type": "code",
   "execution_count": 25,
   "metadata": {},
   "outputs": [
    {
     "output_type": "stream",
     "name": "stdout",
     "text": [
      "[[ 7.]\n [-9.]]\n[[ 7.]\n [-9.]]\n[[ 8  6  2]\n [ 5  4 -1]]\n"
     ]
    },
    {
     "output_type": "execute_result",
     "data": {
      "text/plain": [
       "Matrix([\n",
       "[1, 0,  7],\n",
       "[0, 1, -9]])"
      ],
      "text/latex": "$\\displaystyle \\left[\\begin{matrix}1 & 0 & 7\\\\0 & 1 & -9\\end{matrix}\\right]$"
     },
     "metadata": {},
     "execution_count": 25
    }
   ],
   "source": [
    "C = np.array([\n",
    "    [8,6],\n",
    "    [5,4]\n",
    "])\n",
    "\n",
    "D = np.array([\n",
    "    [2,-3],\n",
    "    [-2.5,4]\n",
    "])\n",
    "\n",
    "b = np.array([[2,-1]]).T\n",
    "\n",
    "print(np.linalg.inv(C)@b)\n",
    "print(D@b)\n",
    "\n",
    "A = np.concatenate((C,b),axis=1)\n",
    "\n",
    "print(A)\n",
    "Matrix(A).rref()[0]"
   ]
  },
  {
   "cell_type": "code",
   "execution_count": 26,
   "metadata": {},
   "outputs": [
    {
     "output_type": "stream",
     "name": "stdout",
     "text": [
      "Dimeionsion of columnspace = 3\n\n[[3]\n [-1]\n [7]\n [3]] \n\n[[-2]\n [2]\n [-2]\n [7]] \n\n[[-5]\n [9]\n [3]\n [3]] \n\n--------------------\nDimeionsion of nullspace = 1\n\n[[-3]\n [-2]\n [1]\n [0]] \n\n--------------------\n"
     ]
    }
   ],
   "source": [
    "A = Matrix([\n",
    "    [3,-1,7,3],\n",
    "    [-2,2,-2,7],\n",
    "    [-5,9,3,3],\n",
    "    [1,1,5,10],\n",
    "    [5,-3,9,-4]\n",
    "])\n",
    "\n",
    "CA = A.T.columnspace()\n",
    "print(f'Dimeionsion of columnspace = {len(CA)}\\n')\n",
    "for i in range(len(CA)):\n",
    "    print(np.array(CA)[i],'\\n')\n",
    "print('-'*20)\n",
    "\n",
    "NA = A.nullspace()\n",
    "print(f'Dimeionsion of nullspace = {len(NA)}\\n')\n",
    "for i in range(len(NA)):\n",
    "    print(np.array(NA)[i],'\\n')\n",
    "print('-'*20)"
   ]
  },
  {
   "cell_type": "code",
   "execution_count": 27,
   "metadata": {},
   "outputs": [
    {
     "output_type": "stream",
     "name": "stdout",
     "text": [
      "[4 4 8]\n"
     ]
    }
   ],
   "source": [
    "A = np.array([\n",
    "    [1,-3,3],\n",
    "    [3,-5,3],\n",
    "    [6,-6,4]\n",
    "])\n",
    "\n",
    "v = np.array([1,1,2])\n",
    "\n",
    "print(A@v)"
   ]
  },
  {
   "cell_type": "code",
   "execution_count": 28,
   "metadata": {},
   "outputs": [
    {
     "output_type": "stream",
     "name": "stdout",
     "text": [
      "\n-1\n[-3.  2.] [[-0.70710678 -0.27472113]\n [-0.70710678 -0.96152395]]\n"
     ]
    },
    {
     "output_type": "execute_result",
     "data": {
      "text/plain": [
       "-14"
      ]
     },
     "metadata": {},
     "execution_count": 28
    }
   ],
   "source": [
    "A = np.array([\n",
    "    [-5,2],\n",
    "    [-7,4]\n",
    "])\n",
    "\n",
    "L,V = np.linalg.eig(A)\n",
    "\n",
    "print()\n",
    "print(np.trace(A))\n",
    "print(L,V)\n",
    "\n",
    "x = symbols('x')\n",
    "\n",
    "(-5-2)*(4-2)"
   ]
  },
  {
   "cell_type": "code",
   "execution_count": 29,
   "metadata": {},
   "outputs": [
    {
     "output_type": "execute_result",
     "data": {
      "text/plain": [
       "Matrix([\n",
       "[-1/3],\n",
       "[   1]])"
      ],
      "text/latex": "$\\displaystyle \\left[\\begin{matrix}- \\frac{1}{3}\\\\1\\end{matrix}\\right]$"
     },
     "metadata": {},
     "execution_count": 29
    }
   ],
   "source": [
    "A = np.array([\n",
    "    [7,3],\n",
    "    [3,-1]\n",
    "])\n",
    "\n",
    "λ = -2\n",
    "\n",
    "Matrix((A - λ*np.eye(np.shape(A)[0],dtype=int))).nullspace()[0]\n",
    "\n"
   ]
  },
  {
   "cell_type": "code",
   "execution_count": 30,
   "metadata": {},
   "outputs": [
    {
     "output_type": "stream",
     "name": "stdout",
     "text": [
      "[(-2, 1, [Matrix([\n[-1/3],\n[   1]])]), (8, 1, [Matrix([\n[3],\n[1]])])]\n[ 0.66666667 -2.        ]\n[ 0.66666667 -2.        ]\n"
     ]
    }
   ],
   "source": [
    "print(Matrix(A).eigenvects())\n",
    "\n",
    "v = np.array([-1/3,1])\n",
    "\n",
    "print(A@v)\n",
    "print(λ*v)"
   ]
  },
  {
   "cell_type": "code",
   "execution_count": 31,
   "metadata": {},
   "outputs": [
    {
     "output_type": "error",
     "ename": "NameError",
     "evalue": "name 'u' is not defined",
     "traceback": [
      "\u001b[0;31m---------------------------------------------------------------------------\u001b[0m",
      "\u001b[0;31mNameError\u001b[0m                                 Traceback (most recent call last)",
      "\u001b[0;32m<ipython-input-31-91e6c4ea9cfb>\u001b[0m in \u001b[0;36m<module>\u001b[0;34m\u001b[0m\n\u001b[0;32m----> 1\u001b[0;31m \u001b[0mb\u001b[0m \u001b[0;34m=\u001b[0m \u001b[0mu\u001b[0m \u001b[0;34m-\u001b[0m \u001b[0mv\u001b[0m\u001b[0;34m\u001b[0m\u001b[0;34m\u001b[0m\u001b[0m\n\u001b[0m\u001b[1;32m      2\u001b[0m \u001b[0mprint\u001b[0m\u001b[0;34m(\u001b[0m\u001b[0;34m(\u001b[0m\u001b[0mb\u001b[0m\u001b[0;34m.\u001b[0m\u001b[0mT\u001b[0m\u001b[0;34m@\u001b[0m\u001b[0mb\u001b[0m\u001b[0;34m)\u001b[0m\u001b[0;34m**\u001b[0m\u001b[0;36m0.5\u001b[0m\u001b[0;34m)\u001b[0m\u001b[0;34m\u001b[0m\u001b[0;34m\u001b[0m\u001b[0m\n\u001b[1;32m      3\u001b[0m \u001b[0mprint\u001b[0m\u001b[0;34m(\u001b[0m\u001b[0mnp\u001b[0m\u001b[0;34m.\u001b[0m\u001b[0mlinalg\u001b[0m\u001b[0;34m.\u001b[0m\u001b[0mnorm\u001b[0m\u001b[0;34m(\u001b[0m\u001b[0mb\u001b[0m\u001b[0;34m)\u001b[0m\u001b[0;34m)\u001b[0m\u001b[0;34m\u001b[0m\u001b[0;34m\u001b[0m\u001b[0m\n\u001b[1;32m      4\u001b[0m \u001b[0;34m\u001b[0m\u001b[0m\n\u001b[1;32m      5\u001b[0m \u001b[0mprint\u001b[0m\u001b[0;34m(\u001b[0m\u001b[0mu\u001b[0m\u001b[0;34m@\u001b[0m\u001b[0mv\u001b[0m\u001b[0;34m)\u001b[0m\u001b[0;34m\u001b[0m\u001b[0;34m\u001b[0m\u001b[0m\n",
      "\u001b[0;31mNameError\u001b[0m: name 'u' is not defined"
     ]
    }
   ],
   "source": [
    "\n",
    "\n",
    "b = u - v\n",
    "print((b.T@b)**0.5)\n",
    "print(np.linalg.norm(b))\n",
    "\n",
    "print(u@v)\n",
    "print(u@w)\n",
    "print(v@w)"
   ]
  },
  {
   "cell_type": "code",
   "execution_count": 32,
   "metadata": {},
   "outputs": [
    {
     "output_type": "stream",
     "name": "stdout",
     "text": [
      "[-5 -3  0]\n[-2 -2 -1]\n[ 3 -5  4]\n"
     ]
    },
    {
     "output_type": "execute_result",
     "data": {
      "text/plain": [
       "3*x - 5*y + 4*z + 7"
      ],
      "text/latex": "$\\displaystyle 3 x - 5 y + 4 z + 7$"
     },
     "metadata": {},
     "execution_count": 32
    }
   ],
   "source": [
    "x,y,z = symbols('x,y,z')\n",
    "\n",
    "p1 = np.array([-2,1,1])\n",
    "p2 = np.array([3,4,1])\n",
    "p3 = np.array([1,2,0])\n",
    "\n",
    "P1 = p1 - p2\n",
    "P2 = p3 - p2 \n",
    "P3 = np.cross(P1,P2)\n",
    "\n",
    "print(P1)\n",
    "print(P2)\n",
    "print(P3)\n",
    "\n",
    "a,b,c = P3[0],P3[1],P3[2]\n",
    "\n",
    "eq = a*x+b*y+c*z\n",
    "\n",
    "x,y,z = p2[0],p2[1],p2[2]\n",
    "\n",
    "d = a*x+b*y+c*z\n",
    "\n",
    "x,y,z = symbols('x,y,z')\n",
    "\n",
    "eq = a*x+b*y+c*z - d\n",
    "\n",
    "eq\n"
   ]
  },
  {
   "cell_type": "code",
   "execution_count": 33,
   "metadata": {},
   "outputs": [
    {
     "output_type": "stream",
     "name": "stdout",
     "text": [
      "[t -5*t 1]\n2/3\n"
     ]
    },
    {
     "output_type": "execute_result",
     "data": {
      "text/plain": [
       "Matrix([\n",
       "[  2/3],\n",
       "[-10/3],\n",
       "[    1]])"
      ],
      "text/latex": "$\\displaystyle \\left[\\begin{matrix}\\frac{2}{3}\\\\- \\frac{10}{3}\\\\1\\end{matrix}\\right]$"
     },
     "metadata": {},
     "execution_count": 33
    }
   ],
   "source": [
    "t = symbols('t')\n",
    "# Point P\n",
    "P = np.array([0,0,1])\n",
    "# Directional vector d, calling a\n",
    "d = np.array([-1,5,0]) \n",
    "# Created using point P and direction vector\n",
    "L = P-(t*d)\n",
    "\n",
    "print(L)\n",
    "\n",
    "x,y,z = L[0],L[1],L[2]\n",
    "\n",
    "# Given equation that defines the plane T\n",
    "T = 3*x - +2*z\n",
    "# Find t\n",
    "t = solve(T)[0]\n",
    "print(t)\n",
    "# Plug t back into original equation for line to find Q\n",
    "Q = Matrix(P-(t*d))\n",
    "\n",
    "Q"
   ]
  },
  {
   "cell_type": "code",
   "execution_count": 34,
   "metadata": {},
   "outputs": [
    {
     "output_type": "stream",
     "name": "stdout",
     "text": [
      "[[-4/3]\n [11/3]\n [3]]\n[-2.]\n[4.]\n[2.]\n[[-2.]\n [ 4.]\n [ 2.]]\n"
     ]
    }
   ],
   "source": [
    "A = np.array([\n",
    "    [1,-1,1],\n",
    "    [2,1,1],\n",
    "    [9,3,1]\n",
    "])\n",
    "\n",
    "b = np.array([[-2,4,2]]).T\n",
    "\n",
    "B = np.linalg.inv(A.T@A)@A.T\n",
    "\n",
    "with np.printoptions(formatter={'all':lambda x: str(Fraction(x).limit_denominator())}):\n",
    "    print(B@b)\n",
    "\n",
    "x = B@b\n",
    "\n",
    "a1 = np.array([1,-1,1])\n",
    "a2 = np.array([2,1,1])\n",
    "a3 = np.array([9,3,1])\n",
    "\n",
    "print(a1@x)\n",
    "print(a2@x)\n",
    "print(a3@x)\n",
    "\n",
    "print(A@x)"
   ]
  },
  {
   "cell_type": "code",
   "execution_count": 36,
   "metadata": {},
   "outputs": [
    {
     "output_type": "execute_result",
     "data": {
      "text/plain": [
       "Matrix([\n",
       "[1, 0, 0, -4/3],\n",
       "[0, 1, 0, 11/3],\n",
       "[0, 0, 1,    3]])"
      ],
      "text/latex": "$\\displaystyle \\left[\\begin{matrix}1 & 0 & 0 & - \\frac{4}{3}\\\\0 & 1 & 0 & \\frac{11}{3}\\\\0 & 0 & 1 & 3\\end{matrix}\\right]$"
     },
     "metadata": {},
     "execution_count": 36
    }
   ],
   "source": [
    "A = np.array([\n",
    "    [1,-1,1,-2],\n",
    "    [2,1,1,4],\n",
    "    [9,3,1,2]\n",
    "])\n",
    "\n",
    "Matrix(A).rref()[0]"
   ]
  },
  {
   "cell_type": "code",
   "execution_count": null,
   "metadata": {},
   "outputs": [],
   "source": []
  }
 ]
}