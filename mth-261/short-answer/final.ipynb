{
 "metadata": {
  "language_info": {
   "codemirror_mode": {
    "name": "ipython",
    "version": 3
   },
   "file_extension": ".py",
   "mimetype": "text/x-python",
   "name": "python",
   "nbconvert_exporter": "python",
   "pygments_lexer": "ipython3",
   "version": "3.9.5-final"
  },
  "orig_nbformat": 2,
  "kernelspec": {
   "name": "python39264bitlinearvenv6ce40b61835845b0a51e3922e69d679e",
   "display_name": "Python 3.9.2 64-bit ('linear': venv)"
  }
 },
 "nbformat": 4,
 "nbformat_minor": 2,
 "cells": [
  {
   "cell_type": "code",
   "execution_count": 56,
   "metadata": {},
   "outputs": [],
   "source": [
    "import numpy as np\n",
    "from sympy import *"
   ]
  },
  {
   "cell_type": "code",
   "execution_count": 57,
   "metadata": {},
   "outputs": [
    {
     "output_type": "execute_result",
     "data": {
      "text/plain": [
       "Matrix([\n",
       "[1, 0, -2],\n",
       "[0, 1, -5],\n",
       "[0, 0,  0],\n",
       "[0, 0,  0]])"
      ],
      "text/latex": "$\\displaystyle \\left[\\begin{matrix}1 & 0 & -2\\\\0 & 1 & -5\\\\0 & 0 & 0\\\\0 & 0 & 0\\end{matrix}\\right]$"
     },
     "metadata": {},
     "execution_count": 57
    }
   ],
   "source": [
    "A = np.array([\n",
    "    [7,-3,1],\n",
    "    [2,1,-9],\n",
    "    [9,-6,12],\n",
    "    [-3,2,-4]\n",
    "])\n",
    "\n",
    "Matrix(A).rref()[0]"
   ]
  },
  {
   "cell_type": "code",
   "execution_count": 58,
   "metadata": {},
   "outputs": [
    {
     "output_type": "stream",
     "name": "stdout",
     "text": [
      "------------------------------\n[[ 1  7 -3]\n [-9  2  1]\n [12  9 -6]\n [-4 -3  2]]\n  rref 🠗\n[[1 0 -1/5]\n [0 1 -2/5]\n [0 0 0]\n [0 0 0]]\n\nDimeionsion of nullspace = 2\n\n[[-21/13]\n [15/13]\n [1]\n [0]]\n\n[-21*u/13 + 15*v/13 + w] = 0\n\n[[7/13]\n [-5/13]\n [0]\n [1]]\n\n[7*u/13 - 5*v/13 + x] = 0\n\n------------------------------\nDimeionsion of columnspace = 2\n\n[[1]\n [-9]\n [12]\n [-4]] \n\n[[7]\n [2]\n [9]\n [-3]] \n\n------------------------------\n"
     ]
    }
   ],
   "source": [
    "def linearDependence(a,b,c,d):\n",
    "    print('-'*30)\n",
    "    a = np.array([a])\n",
    "    b = np.array([b])\n",
    "    c = np.array([c])\n",
    "    d = np.array([d])\n",
    "\n",
    "    u,v,w,x = symbols('u,v,w,x')\n",
    "    symbolic = np.array([u,v,w,x])\n",
    "\n",
    "    A = np.concatenate((a,b,c,d))\n",
    "    print(A)\n",
    "    print('  rref 🠗')\n",
    "    print(np.array(Matrix(A).rref()[0]))\n",
    "    # check leftnullspace for linear dependence\n",
    "    # return vector required to reach zero vector if true\n",
    "    ANul = np.array(Matrix(A.T).nullspace())\n",
    "    if len(ANul) >= 1:\n",
    "        print(f'\\nDimeionsion of nullspace = {len(ANul)}\\n')\n",
    "        for i in range(len(ANul)):\n",
    "            cokernel = np.array(ANul)[i]\n",
    "            print(cokernel)\n",
    "            print(f'\\n{symbolic@cokernel} = 0\\n')\n",
    "        print('-'*30)\n",
    "        CA = Matrix(A).columnspace()\n",
    "        print(f'Dimeionsion of columnspace = {len(CA)}\\n')\n",
    "        for i in range(len(CA)):\n",
    "            print(np.array(CA)[i],'\\n')\n",
    "        print('-'*30)\n",
    "    else:\n",
    "        print('\\nVectors are linearly independent')\n",
    "        print('-'*30)\n",
    "\n",
    "\n",
    "linearDependence(\n",
    "    [1,7,-3],\n",
    "    [-9,2,1],\n",
    "    [12,9,-6],\n",
    "    [-4,-3,2]\n",
    ")"
   ]
  },
  {
   "cell_type": "code",
   "execution_count": 59,
   "metadata": {},
   "outputs": [
    {
     "output_type": "stream",
     "name": "stdout",
     "text": [
      "[[ 7.]\n [-9.]]\n[[ 7.]\n [-9.]]\n[[ 8  6  2]\n [ 5  4 -1]]\n"
     ]
    },
    {
     "output_type": "execute_result",
     "data": {
      "text/plain": [
       "Matrix([\n",
       "[1, 0,  7],\n",
       "[0, 1, -9]])"
      ],
      "text/latex": "$\\displaystyle \\left[\\begin{matrix}1 & 0 & 7\\\\0 & 1 & -9\\end{matrix}\\right]$"
     },
     "metadata": {},
     "execution_count": 59
    }
   ],
   "source": [
    "C = np.array([\n",
    "    [8,6],\n",
    "    [5,4]\n",
    "])\n",
    "\n",
    "D = np.array([\n",
    "    [2,-3],\n",
    "    [-2.5,4]\n",
    "])\n",
    "\n",
    "b = np.array([[2,-1]]).T\n",
    "\n",
    "print(np.linalg.inv(C)@b)\n",
    "print(D@b)\n",
    "\n",
    "A = np.concatenate((C,b),axis=1)\n",
    "\n",
    "print(A)\n",
    "Matrix(A).rref()[0]"
   ]
  },
  {
   "cell_type": "code",
   "execution_count": 62,
   "metadata": {},
   "outputs": [
    {
     "output_type": "stream",
     "name": "stdout",
     "text": [
      "Dimeionsion of columnspace = 3\n\n[[3]\n [-1]\n [7]\n [3]] \n\n[[-2]\n [2]\n [-2]\n [7]] \n\n[[-5]\n [9]\n [3]\n [3]] \n\n--------------------\nDimeionsion of nullspace = 1\n\n[[-3]\n [-2]\n [1]\n [0]] \n\n--------------------\n"
     ]
    }
   ],
   "source": [
    "A = Matrix([\n",
    "    [3,-1,7,3],\n",
    "    [-2,2,-2,7],\n",
    "    [-5,9,3,3],\n",
    "    [1,1,5,10],\n",
    "    [5,-3,9,-4]\n",
    "])\n",
    "\n",
    "CA = A.T.columnspace()\n",
    "print(f'Dimeionsion of columnspace = {len(CA)}\\n')\n",
    "for i in range(len(CA)):\n",
    "    print(np.array(CA)[i],'\\n')\n",
    "print('-'*20)\n",
    "\n",
    "NA = A.nullspace()\n",
    "print(f'Dimeionsion of nullspace = {len(NA)}\\n')\n",
    "for i in range(len(NA)):\n",
    "    print(np.array(NA)[i],'\\n')\n",
    "print('-'*20)"
   ]
  },
  {
   "cell_type": "code",
   "execution_count": 64,
   "metadata": {},
   "outputs": [
    {
     "output_type": "stream",
     "name": "stdout",
     "text": [
      "[4 4 8]\n"
     ]
    }
   ],
   "source": [
    "A = np.array([\n",
    "    [1,-3,3],\n",
    "    [3,-5,3],\n",
    "    [6,-6,4]\n",
    "])\n",
    "\n",
    "v = np.array([1,1,2])\n",
    "\n",
    "print(A@v)"
   ]
  },
  {
   "cell_type": "code",
   "execution_count": 82,
   "metadata": {},
   "outputs": [
    {
     "output_type": "stream",
     "name": "stdout",
     "text": [
      "\n-1\n[-3.  2.] [[-0.70710678 -0.27472113]\n [-0.70710678 -0.96152395]]\n"
     ]
    },
    {
     "output_type": "execute_result",
     "data": {
      "text/plain": [
       "-14"
      ]
     },
     "metadata": {},
     "execution_count": 82
    }
   ],
   "source": [
    "A = np.array([\n",
    "    [-5,2],\n",
    "    [-7,4]\n",
    "])\n",
    "\n",
    "L,V = np.linalg.eig(A)\n",
    "\n",
    "print()\n",
    "print(np.trace(A))\n",
    "print(L,V)\n",
    "\n",
    "x = symbols('x')\n",
    "\n",
    "(-5-2)*(4-2)"
   ]
  },
  {
   "cell_type": "code",
   "execution_count": 93,
   "metadata": {},
   "outputs": [
    {
     "output_type": "execute_result",
     "data": {
      "text/plain": [
       "Matrix([\n",
       "[-1/3],\n",
       "[   1]])"
      ],
      "text/latex": "$\\displaystyle \\left[\\begin{matrix}- \\frac{1}{3}\\\\1\\end{matrix}\\right]$"
     },
     "metadata": {},
     "execution_count": 93
    }
   ],
   "source": [
    "A = np.array([\n",
    "    [7,3],\n",
    "    [3,-1]\n",
    "])\n",
    "\n",
    "λ = -2\n",
    "\n",
    "Matrix((A - λ*np.eye(np.shape(A)[0],dtype=int))).nullspace()[0]\n",
    "\n"
   ]
  },
  {
   "cell_type": "code",
   "execution_count": 107,
   "metadata": {},
   "outputs": [
    {
     "output_type": "stream",
     "name": "stdout",
     "text": [
      "[(-2, 1, [Matrix([\n[-1/3],\n[   1]])]), (8, 1, [Matrix([\n[3],\n[1]])])]\n[ 0.66666667 -2.        ]\n[ 0.66666667 -2.        ]\n"
     ]
    }
   ],
   "source": [
    "print(Matrix(A).eigenvects())\n",
    "\n",
    "v = np.array([-1/3,1])\n",
    "\n",
    "print(A@v)\n",
    "print(λ*v)"
   ]
  },
  {
   "cell_type": "code",
   "execution_count": 108,
   "metadata": {},
   "outputs": [
    {
     "output_type": "stream",
     "name": "stdout",
     "text": [
      "[-5 -3  0]\n"
     ]
    }
   ],
   "source": [
    "u = np.array([-2,1,1])\n",
    "v = np.array([3,4,1])\n",
    "w = np.array([1,2,0])\n",
    "\n",
    "print(u-v)"
   ]
  },
  {
   "cell_type": "code",
   "execution_count": null,
   "metadata": {},
   "outputs": [],
   "source": []
  }
 ]
}